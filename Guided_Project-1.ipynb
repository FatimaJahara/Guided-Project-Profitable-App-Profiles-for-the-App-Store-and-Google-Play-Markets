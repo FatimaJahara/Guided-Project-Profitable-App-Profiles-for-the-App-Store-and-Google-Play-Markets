{
 "cells": [
  {
   "cell_type": "markdown",
   "metadata": {},
   "source": [
    "**Profitable App Profiles for the App Store and Google Play Markets**\n",
    "================================\n",
    "Our aim in this project is to find mobile app profiles that are profitable for the App Store and Google Play markets. We're working as data analysts for a company that builds Android and iOS mobile apps. We make our apps available on Google Play and the App Store.\n",
    "\n",
    "We only build apps that are free to download and install, and our main source of revenue consists of in-app ads. This means our revenue for any given app is mostly influenced by the number of users who use our app — the more users that see and engage with the ads, the better.\n",
    "\n",
    "**Goal**\n",
    "--------------------------------------------------------------\n",
    "Our goal for this project is to analyze data to help our developers understand what type of apps are likely to attract more users."
   ]
  },
  {
   "cell_type": "code",
   "execution_count": 1,
   "metadata": {
    "collapsed": false
   },
   "outputs": [],
   "source": [
    "def open_file(dataset, header = True):\n",
    "    opened_file = open(dataset, encoding='utf8')\n",
    "    from csv import reader\n",
    "    read_file = reader(opened_file)\n",
    "    data = list(read_file)\n",
    "    if header:\n",
    "        return data[0], data[1:]\n",
    "    else:\n",
    "        return data[1:]"
   ]
  },
  {
   "cell_type": "code",
   "execution_count": 2,
   "metadata": {
    "collapsed": false
   },
   "outputs": [],
   "source": [
    "android_header, android = open_file('googleplaystore.csv')\n",
    "ios_header, ios = open_file('AppleStore.csv')"
   ]
  },
  {
   "cell_type": "code",
   "execution_count": 3,
   "metadata": {
    "collapsed": true
   },
   "outputs": [],
   "source": [
    "def explore_data(dataset, start, end, rows_columns = False):\n",
    "    data = dataset[start:end]\n",
    "    for row in data:\n",
    "        print(row)\n",
    "        print('\\n')\n",
    "        \n",
    "    if rows_columns:\n",
    "        print('Number of rows: ', len(dataset))\n",
    "        print('Number of columns: ', len(dataset[0]))\n",
    "        "
   ]
  },
  {
   "cell_type": "code",
   "execution_count": 4,
   "metadata": {
    "collapsed": false
   },
   "outputs": [
    {
     "name": "stdout",
     "output_type": "stream",
     "text": [
      "['App', 'Category', 'Rating', 'Reviews', 'Size', 'Installs', 'Type', 'Price', 'Content Rating', 'Genres', 'Last Updated', 'Current Ver', 'Android Ver']\n",
      "\n",
      "\n",
      "['Photo Editor & Candy Camera & Grid & ScrapBook', 'ART_AND_DESIGN', '4.1', '159', '19M', '10,000+', 'Free', '0', 'Everyone', 'Art & Design', 'January 7, 2018', '1.0.0', '4.0.3 and up']\n",
      "\n",
      "\n",
      "Number of rows:  10841\n",
      "Number of columns:  13\n"
     ]
    }
   ],
   "source": [
    "print(android_header)\n",
    "print('\\n')\n",
    "explore_data(android, 0, 1, True)"
   ]
  },
  {
   "cell_type": "code",
   "execution_count": 5,
   "metadata": {
    "collapsed": false
   },
   "outputs": [
    {
     "name": "stdout",
     "output_type": "stream",
     "text": [
      "['id', 'track_name', 'size_bytes', 'currency', 'price', 'rating_count_tot', 'rating_count_ver', 'user_rating', 'user_rating_ver', 'ver', 'cont_rating', 'prime_genre', 'sup_devices.num', 'ipadSc_urls.num', 'lang.num', 'vpp_lic']\n",
      "\n",
      "\n",
      "['284882215', 'Facebook', '389879808', 'USD', '0.0', '2974676', '212', '3.5', '3.5', '95.0', '4+', 'Social Networking', '37', '1', '29', '1']\n",
      "\n",
      "\n",
      "Number of rows:  7197\n",
      "Number of columns:  16\n"
     ]
    }
   ],
   "source": [
    "print(ios_header)\n",
    "print('\\n')\n",
    "explore_data(ios, 0, 1, True)"
   ]
  },
  {
   "cell_type": "markdown",
   "metadata": {
    "collapsed": true
   },
   "source": [
    "**Deleting Wrong Data**\n",
    "---------------------------------------\n",
    "The entry in row 10472 has missing 'Rating' and a column shift happened for next columns..\n"
   ]
  },
  {
   "cell_type": "code",
   "execution_count": 6,
   "metadata": {
    "collapsed": false
   },
   "outputs": [
    {
     "name": "stdout",
     "output_type": "stream",
     "text": [
      "10841\n",
      "10840\n"
     ]
    }
   ],
   "source": [
    "print(len(android))\n",
    "del android[10472]  # don't run this more than once\n",
    "print(len(android))"
   ]
  },
  {
   "cell_type": "markdown",
   "metadata": {},
   "source": [
    "Removing Duplicate Entries: Part One\n",
    "-----------------------------------------------\n"
   ]
  },
  {
   "cell_type": "code",
   "execution_count": 7,
   "metadata": {
    "collapsed": false
   },
   "outputs": [
    {
     "name": "stdout",
     "output_type": "stream",
     "text": [
      "['Facebook', 'SOCIAL', '4.1', '78158306', 'Varies with device', '1,000,000,000+', 'Free', '0', 'Teen', 'Social', 'August 3, 2018', 'Varies with device', 'Varies with device']\n",
      "['Facebook', 'SOCIAL', '4.1', '78128208', 'Varies with device', '1,000,000,000+', 'Free', '0', 'Teen', 'Social', 'August 3, 2018', 'Varies with device', 'Varies with device']\n"
     ]
    }
   ],
   "source": [
    "for app in android:\n",
    "    name = app[0]\n",
    "    if name == 'Facebook':\n",
    "        print(app)"
   ]
  },
  {
   "cell_type": "code",
   "execution_count": 8,
   "metadata": {
    "collapsed": false
   },
   "outputs": [
    {
     "name": "stdout",
     "output_type": "stream",
     "text": [
      "No. of duplicate apps are:  1181\n",
      "\n",
      "\n"
     ]
    }
   ],
   "source": [
    "def duplicate(dataset):\n",
    "    duplicate_apps = []\n",
    "    unique_apps_name = []\n",
    "    unique_apps = []\n",
    "    for apps in dataset:\n",
    "        name = apps[0]\n",
    "        if name in unique_apps_name:\n",
    "            duplicate_apps.append(apps)\n",
    "        else:\n",
    "            unique_apps.append(apps)\n",
    "            unique_apps_name.append(name)\n",
    "    print('No. of duplicate apps are: ',len(duplicate_apps))\n",
    "    #print('The duplicate apps are: \\n',duplicate_apps[:2])\n",
    "    print('\\n')\n",
    "    return duplicate_apps, unique_apps\n",
    "    \n",
    "duplicate_apps, unique_apps = duplicate(android)"
   ]
  },
  {
   "cell_type": "markdown",
   "metadata": {},
   "source": [
    "Removing Duplicate Entries: Part Two\n",
    "----------------------------------------------\n",
    "\n",
    "To remove the duplicates, we will:\n",
    "\n",
    "Create a dictionary, where each dictionary key is a unique app name and the corresponding dictionary value is the highest number of reviews of that app.\n",
    "\n",
    "Use the information stored in the dictionary and create a new data set, which will have only one entry per app (and for each app, we'll only select the entry with the highest number of reviews)."
   ]
  },
  {
   "cell_type": "code",
   "execution_count": 9,
   "metadata": {
    "collapsed": true
   },
   "outputs": [],
   "source": [
    "def duplicate_removal(dataset):\n",
    "    reviews_max = {}\n",
    "    for apps in dataset:\n",
    "        name = apps[0]\n",
    "        n_reviews = float(apps[3])\n",
    "        if name in reviews_max:\n",
    "            if reviews_max[name] < n_reviews:\n",
    "                reviews_max[name] = n_reviews\n",
    "        else:\n",
    "            reviews_max[name] = n_reviews\n",
    "    return reviews_max"
   ]
  },
  {
   "cell_type": "code",
   "execution_count": 10,
   "metadata": {
    "collapsed": false
   },
   "outputs": [
    {
     "name": "stdout",
     "output_type": "stream",
     "text": [
      "9659\n",
      "9659\n"
     ]
    }
   ],
   "source": [
    "print(len(android) - len(duplicate_apps))\n",
    "review_max = duplicate_removal(android)\n",
    "print(len(review_max))"
   ]
  },
  {
   "cell_type": "code",
   "execution_count": 11,
   "metadata": {
    "collapsed": false
   },
   "outputs": [
    {
     "data": {
      "text/plain": [
       "9659"
      ]
     },
     "execution_count": 11,
     "metadata": {},
     "output_type": "execute_result"
    }
   ],
   "source": [
    "def remove_duplicate(dataset):\n",
    "    android_clean = []\n",
    "    already_added = []\n",
    "    for app in dataset:\n",
    "        name = app[0]\n",
    "        n_reviews = float(app[3])\n",
    "        if (name not in already_added) and (review_max[name] == n_reviews):\n",
    "            android_clean.append(app)\n",
    "            already_added.append(name)\n",
    "    return android_clean\n",
    "android_clean = remove_duplicate(android) \n",
    "len(android_clean)"
   ]
  },
  {
   "cell_type": "markdown",
   "metadata": {
    "collapsed": true
   },
   "source": [
    "Removing Non-English Apps: Part One\n",
    "-----------------------------------------------\n",
    "\n"
   ]
  },
  {
   "cell_type": "code",
   "execution_count": 12,
   "metadata": {
    "collapsed": false
   },
   "outputs": [
    {
     "name": "stdout",
     "output_type": "stream",
     "text": [
      "True\n",
      "False\n",
      "False\n",
      "False\n"
     ]
    }
   ],
   "source": [
    "def test_non_english(string):\n",
    "    for char in string:\n",
    "        if ord(char)> 127:\n",
    "            return False\n",
    "    return True\n",
    "print(test_non_english('Instagram'))\n",
    "print(test_non_english('爱奇艺PPS -《欢乐颂2》电视剧热播'))\n",
    "print(test_non_english('Docs To Go™ Free Office Suite'))\n",
    "print(test_non_english('Instachat 😜'))\n"
   ]
  },
  {
   "cell_type": "markdown",
   "metadata": {},
   "source": [
    "Removing Non-English Apps: Part Two\n",
    "----------------------------------------------"
   ]
  },
  {
   "cell_type": "code",
   "execution_count": 13,
   "metadata": {
    "collapsed": false
   },
   "outputs": [
    {
     "name": "stdout",
     "output_type": "stream",
     "text": [
      "False\n",
      "True\n",
      "True\n"
     ]
    }
   ],
   "source": [
    "\n",
    "\n",
    "def test_non_english(string):\n",
    "    no_of_string = 0\n",
    "    for char in string:\n",
    "        if ord(char)> 127:\n",
    "            no_of_string += 1\n",
    "            if no_of_string > 3:\n",
    "                return False\n",
    "    return True\n",
    "\n",
    "print(test_non_english('爱奇艺PPS -《欢乐颂2》电视剧热播'))\n",
    "print(test_non_english('Docs To Go™ Free Office Suite'))\n",
    "print(test_non_english('Instachat 😜'))"
   ]
  },
  {
   "cell_type": "code",
   "execution_count": 14,
   "metadata": {
    "collapsed": false
   },
   "outputs": [],
   "source": [
    "def remove_non_eng(dataset, name_index):\n",
    "    android_eng = []\n",
    "    for app in dataset:\n",
    "        name = app[name_index]\n",
    "        eng = test_non_english(name)\n",
    "        if eng:\n",
    "            android_eng.append(app)\n",
    "    return android_eng\n",
    "\n",
    "android_english = remove_non_eng(android_clean, 0)\n",
    "ios_english = remove_non_eng(ios, 1)          "
   ]
  },
  {
   "cell_type": "code",
   "execution_count": 15,
   "metadata": {
    "collapsed": false
   },
   "outputs": [
    {
     "name": "stdout",
     "output_type": "stream",
     "text": [
      "9614\n",
      "6183\n"
     ]
    }
   ],
   "source": [
    "print(len(android_english))\n",
    "print(len(ios_english))"
   ]
  },
  {
   "cell_type": "markdown",
   "metadata": {},
   "source": [
    "Isolating the Free Apps\n",
    "--------------------------------------------\n",
    "\n"
   ]
  },
  {
   "cell_type": "code",
   "execution_count": 16,
   "metadata": {
    "collapsed": false
   },
   "outputs": [
    {
     "name": "stdout",
     "output_type": "stream",
     "text": [
      "8864\n",
      "3222\n"
     ]
    }
   ],
   "source": [
    "\n",
    "def free_app(dataset, index):\n",
    "    free_app = []\n",
    "    for app in dataset:\n",
    "        price = app[index]\n",
    "        if price == '0' or price == '0.0':\n",
    "            free_app.append(app)\n",
    "    return free_app\n",
    "\n",
    "android_final = free_app(android_english, 7)\n",
    "ios_final = free_app(ios_english, 4)          \n",
    "\n",
    "print(len(android_final))\n",
    "print(len(ios_final))"
   ]
  },
  {
   "cell_type": "markdown",
   "metadata": {
    "collapsed": false
   },
   "source": [
    "Most Common Apps by Genre: Part One\n",
    "----------------------------------------------------\n",
    "\n",
    "As we mentioned in the introduction, our aim is to determine the kinds of apps that are likely to attract more users because our revenue is highly influenced by the number of people using our apps.\n",
    "\n",
    "To minimize risks and overhead, our validation strategy for an app idea is comprised of three steps:\n",
    "\n",
    "1. Build a minimal Android version of the app, and add it to Google Play.\n",
    "2. If the app has a good response from users, we then develop it further.\n",
    "3. If the app is profitable after six months, we also build an iOS version of the app and add it to the App Store.\n",
    "\n",
    "Because our end goal is to add the app on both the App Store and Google Play, we need to find app profiles that are successful on both markets. For instance, a profile that might work well for both markets might be a productivity app that makes use of gamification.\n",
    "\n",
    "Let's begin the analysis by getting a sense of the most common genres for each market. For this, we'll build a frequency table for the prime_genre column of the App Store data set, and the Genres and Category columns of the Google Play data set."
   ]
  },
  {
   "cell_type": "markdown",
   "metadata": {
    "collapsed": true
   },
   "source": [
    "Most Common Apps by Genre: Part Two\n",
    "------------------------------------------------"
   ]
  },
  {
   "cell_type": "code",
   "execution_count": 17,
   "metadata": {
    "collapsed": false
   },
   "outputs": [
    {
     "name": "stdout",
     "output_type": "stream",
     "text": [
      "Tools : 749\n",
      "Entertainment : 538\n",
      "Education : 474\n",
      "Business : 407\n",
      "Productivity : 345\n",
      "Lifestyle : 345\n",
      "Finance : 328\n",
      "Medical : 313\n",
      "Sports : 307\n",
      "Personalization : 294\n",
      "Communication : 287\n",
      "Action : 275\n",
      "Health & Fitness : 273\n",
      "Photography : 261\n",
      "News & Magazines : 248\n",
      "Social : 236\n",
      "Travel & Local : 206\n",
      "Shopping : 199\n",
      "Books & Reference : 190\n",
      "Simulation : 181\n",
      "Dating : 165\n",
      "Arcade : 164\n",
      "Video Players & Editors : 157\n",
      "Casual : 156\n",
      "Maps & Navigation : 124\n",
      "Food & Drink : 110\n",
      "Puzzle : 100\n",
      "Racing : 88\n",
      "Role Playing : 83\n",
      "Libraries & Demo : 83\n",
      "Auto & Vehicles : 82\n",
      "Strategy : 81\n",
      "House & Home : 73\n",
      "Weather : 71\n",
      "Events : 63\n",
      "Adventure : 60\n",
      "Comics : 54\n",
      "Beauty : 53\n",
      "Art & Design : 53\n",
      "Parenting : 44\n",
      "Card : 40\n",
      "Casino : 38\n",
      "Trivia : 37\n",
      "Educational;Education : 35\n",
      "Board : 34\n",
      "Educational : 33\n",
      "Education;Education : 30\n",
      "Word : 23\n",
      "Casual;Pretend Play : 21\n",
      "Music : 18\n",
      "Racing;Action & Adventure : 15\n",
      "Puzzle;Brain Games : 15\n",
      "Entertainment;Music & Video : 15\n",
      "Casual;Brain Games : 12\n",
      "Casual;Action & Adventure : 12\n",
      "Arcade;Action & Adventure : 11\n",
      "Action;Action & Adventure : 9\n",
      "Educational;Pretend Play : 8\n",
      "Simulation;Action & Adventure : 7\n",
      "Parenting;Education : 7\n",
      "Entertainment;Brain Games : 7\n",
      "Board;Brain Games : 7\n",
      "Parenting;Music & Video : 6\n",
      "Educational;Brain Games : 6\n",
      "Casual;Creativity : 6\n",
      "Art & Design;Creativity : 6\n",
      "Education;Pretend Play : 5\n",
      "Role Playing;Pretend Play : 4\n",
      "Education;Creativity : 4\n",
      "Role Playing;Action & Adventure : 3\n",
      "Puzzle;Action & Adventure : 3\n",
      "Entertainment;Creativity : 3\n",
      "Entertainment;Action & Adventure : 3\n",
      "Educational;Creativity : 3\n",
      "Educational;Action & Adventure : 3\n",
      "Education;Music & Video : 3\n",
      "Education;Brain Games : 3\n",
      "Education;Action & Adventure : 3\n",
      "Adventure;Action & Adventure : 3\n",
      "Video Players & Editors;Music & Video : 2\n",
      "Sports;Action & Adventure : 2\n",
      "Simulation;Pretend Play : 2\n",
      "Puzzle;Creativity : 2\n",
      "Music;Music & Video : 2\n",
      "Entertainment;Pretend Play : 2\n",
      "Casual;Education : 2\n",
      "Board;Action & Adventure : 2\n",
      "Video Players & Editors;Creativity : 1\n",
      "Trivia;Education : 1\n",
      "Travel & Local;Action & Adventure : 1\n",
      "Tools;Education : 1\n",
      "Strategy;Education : 1\n",
      "Strategy;Creativity : 1\n",
      "Strategy;Action & Adventure : 1\n",
      "Simulation;Education : 1\n",
      "Role Playing;Brain Games : 1\n",
      "Racing;Pretend Play : 1\n",
      "Puzzle;Education : 1\n",
      "Parenting;Brain Games : 1\n",
      "Music & Audio;Music & Video : 1\n",
      "Lifestyle;Pretend Play : 1\n",
      "Lifestyle;Education : 1\n",
      "Health & Fitness;Education : 1\n",
      "Health & Fitness;Action & Adventure : 1\n",
      "Entertainment;Education : 1\n",
      "Communication;Creativity : 1\n",
      "Comics;Creativity : 1\n",
      "Casual;Music & Video : 1\n",
      "Card;Action & Adventure : 1\n",
      "Books & Reference;Education : 1\n",
      "Art & Design;Pretend Play : 1\n",
      "Art & Design;Action & Adventure : 1\n",
      "Arcade;Pretend Play : 1\n",
      "Adventure;Education : 1\n"
     ]
    }
   ],
   "source": [
    "def freq_table(dataset, index):\n",
    "    frequency_dict = {}\n",
    "    for app in dataset:\n",
    "        name = app[index]\n",
    "        if name in frequency_dict:\n",
    "            frequency_dict[name] += 1\n",
    "        else:\n",
    "            frequency_dict[name] = 1\n",
    "    return frequency_dict\n",
    "\n",
    "def display_table(dataset, index):\n",
    "    table = freq_table(dataset, index)\n",
    "    table_display = []\n",
    "    for key in table:\n",
    "        key_val_as_tuple = (table[key], key)\n",
    "        table_display.append(key_val_as_tuple)\n",
    "\n",
    "    table_sorted = sorted(table_display, reverse = True)\n",
    "    for entry in table_sorted:\n",
    "        print(entry[1], ':', entry[0])\n",
    "    return table_sorted\n",
    "        \n",
    "android_genre = display_table(android_final, -4)"
   ]
  },
  {
   "cell_type": "code",
   "execution_count": 18,
   "metadata": {
    "collapsed": false
   },
   "outputs": [
    {
     "name": "stdout",
     "output_type": "stream",
     "text": [
      "Games : 1874\n",
      "Entertainment : 254\n",
      "Photo & Video : 160\n",
      "Education : 118\n",
      "Social Networking : 106\n",
      "Shopping : 84\n",
      "Utilities : 81\n",
      "Sports : 69\n",
      "Music : 66\n",
      "Health & Fitness : 65\n",
      "Productivity : 56\n",
      "Lifestyle : 51\n",
      "News : 43\n",
      "Travel : 40\n",
      "Finance : 36\n",
      "Weather : 28\n",
      "Food & Drink : 26\n",
      "Reference : 18\n",
      "Business : 17\n",
      "Book : 14\n",
      "Navigation : 6\n",
      "Medical : 6\n",
      "Catalogs : 4\n"
     ]
    }
   ],
   "source": [
    "ios_genre = display_table(ios_final, -5)"
   ]
  },
  {
   "cell_type": "markdown",
   "metadata": {},
   "source": [
    "android_category = display_table(android_final, 1)"
   ]
  },
  {
   "cell_type": "code",
   "execution_count": 19,
   "metadata": {
    "collapsed": false
   },
   "outputs": [
    {
     "name": "stdout",
     "output_type": "stream",
     "text": [
      "Most commom genre:  Tools\n",
      "Most commom genre runner-up :  Entertainment\n"
     ]
    }
   ],
   "source": [
    "print('Most commom genre: ',android_genre[0][-1])\n",
    "print('Most commom genre runner-up : ',android_genre[1][-1])"
   ]
  },
  {
   "cell_type": "markdown",
   "metadata": {},
   "source": [
    "Most Popular Apps by Genre on the App Store\n",
    "-----------------------------------------------------------\n",
    "\n",
    "One way to find out what genres are the most popular (have the most users) is to calculate the average number of installs for each app genre. For the Google Play data set, we can find this information in the Installs column, but this information is missing for the App Store data set. As a workaround, we'll take the total number of user ratings as a proxy, which we can find in the rating_count_tot app.\n",
    "\n",
    "Let's start with calculating the average number of user ratings per app genre on the App Store. To do that, we'll need to:\n",
    "\n",
    "1. Isolate the apps of each genre.\n",
    "2. Sum up the user ratings for the apps of that genre.\n",
    "3. Divide the sum by the number of apps belonging to that genre (not by the total number of apps)."
   ]
  },
  {
   "cell_type": "code",
   "execution_count": 20,
   "metadata": {
    "collapsed": false
   },
   "outputs": [],
   "source": [
    "def popular_apps(dataset, index_genre, index_install):\n",
    "    genre_popularity = {}\n",
    "    genre_frequency = freq_table(dataset, index_genre)\n",
    "    popularity_display = []\n",
    "    for genre in genre_frequency:\n",
    "        total = 0\n",
    "        len_genre = 0\n",
    "        for app in dataset:\n",
    "            if app[index_genre] == genre:\n",
    "                install_count = float(app[index_install])\n",
    "                total += install_count\n",
    "                len_genre += 1\n",
    "        avg_n_ratings = total/len_genre\n",
    "        genre_popularity[genre] = avg_n_ratings\n",
    "        #print(genre, ':', avg_n_ratings)\n",
    "        \n",
    "        key_val_as_tuple = (avg_n_ratings, genre)\n",
    "        popularity_display.append(key_val_as_tuple)\n",
    "        \n",
    "    popularity_sorted = sorted(popularity_display, reverse = True)\n",
    "    for entry in popularity_sorted:\n",
    "        print(entry[1], ':', entry[0])\n",
    "    return popularity_sorted\n",
    "    #print(genre_popularity)\n",
    "    #return genre_popularity    "
   ]
  },
  {
   "cell_type": "code",
   "execution_count": 21,
   "metadata": {
    "collapsed": false
   },
   "outputs": [],
   "source": [
    "#popular_apps(ios_final, -5, 5)"
   ]
  },
  {
   "cell_type": "code",
   "execution_count": 22,
   "metadata": {
    "collapsed": false
   },
   "outputs": [
    {
     "name": "stdout",
     "output_type": "stream",
     "text": [
      "Navigation : 86090.33333333333\n",
      "Reference : 74942.11111111111\n",
      "Social Networking : 71548.34905660378\n",
      "Music : 57326.530303030304\n",
      "Weather : 52279.892857142855\n",
      "Book : 39758.5\n",
      "Food & Drink : 33333.92307692308\n",
      "Finance : 31467.944444444445\n",
      "Photo & Video : 28441.54375\n",
      "Travel : 28243.8\n",
      "Shopping : 26919.690476190477\n",
      "Health & Fitness : 23298.015384615384\n",
      "Sports : 23008.898550724636\n",
      "Games : 22788.6696905016\n",
      "News : 21248.023255813954\n",
      "Productivity : 21028.410714285714\n",
      "Utilities : 18684.456790123455\n",
      "Lifestyle : 16485.764705882353\n",
      "Entertainment : 14029.830708661417\n",
      "Business : 7491.117647058823\n",
      "Education : 7003.983050847458\n",
      "Catalogs : 4004.0\n",
      "Medical : 612.0\n"
     ]
    }
   ],
   "source": [
    "ios_popularity = popular_apps(ios_final, -5, 5)"
   ]
  },
  {
   "cell_type": "code",
   "execution_count": 34,
   "metadata": {
    "collapsed": false
   },
   "outputs": [
    {
     "name": "stdout",
     "output_type": "stream",
     "text": [
      "Most popular genre:  Navigation\n",
      "\n",
      "\n",
      "Most popular apps: \n",
      "Waze - GPS Navigation, Maps & Real-time Traffic : 345046\n",
      "Google Maps - Navigation & Transit : 154911\n",
      "Geocaching® : 12811\n",
      "CoPilot GPS – Car Navigation & Offline Maps : 3582\n",
      "ImmobilienScout24: Real Estate Search in Germany : 187\n",
      "Railway Route Search : 5\n"
     ]
    }
   ],
   "source": [
    "print('Most popular genre: ',ios_popularity[0][1])\n",
    "print('\\n')\n",
    "print('Most popular apps: ')\n",
    "for app in ios_final:\n",
    "    if app[-5] == ios_popularity[0][1]:\n",
    "        print(app[1], ':', app[5])"
   ]
  },
  {
   "cell_type": "code",
   "execution_count": 36,
   "metadata": {
    "collapsed": false
   },
   "outputs": [
    {
     "name": "stdout",
     "output_type": "stream",
     "text": [
      "Most popular genre runner up:  Reference\n",
      "\n",
      "\n",
      "Most popular apps runner up: \n",
      "Bible : 985920\n",
      "Dictionary.com Dictionary & Thesaurus : 200047\n",
      "Dictionary.com Dictionary & Thesaurus for iPad : 54175\n",
      "Google Translate : 26786\n",
      "Muslim Pro: Ramadan 2017 Prayer Times, Azan, Quran : 18418\n",
      "New Furniture Mods - Pocket Wiki & Game Tools for Minecraft PC Edition : 17588\n",
      "Merriam-Webster Dictionary : 16849\n",
      "Night Sky : 12122\n",
      "City Maps for Minecraft PE - The Best Maps for Minecraft Pocket Edition (MCPE) : 8535\n",
      "LUCKY BLOCK MOD ™ for Minecraft PC Edition - The Best Pocket Wiki & Mods Installer Tools : 4693\n",
      "GUNS MODS for Minecraft PC Edition - Mods Tools : 1497\n",
      "Guides for Pokémon GO - Pokemon GO News and Cheats : 826\n",
      "WWDC : 762\n",
      "Horror Maps for Minecraft PE - Download The Scariest Maps for Minecraft Pocket Edition (MCPE) Free : 718\n",
      "VPN Express : 14\n",
      "Real Bike Traffic Rider Virtual Reality Glasses : 8\n",
      "教えて!goo : 0\n",
      "Jishokun-Japanese English Dictionary & Translator : 0\n"
     ]
    }
   ],
   "source": [
    "print('Most popular genre runner up: ',ios_popularity[1][1])\n",
    "print('\\n')\n",
    "print('Most popular apps runner up: ')\n",
    "for app in ios_final:\n",
    "    if app[-5] == ios_popularity[1][1]:\n",
    "        print(app[1], ':', app[5])"
   ]
  },
  {
   "cell_type": "markdown",
   "metadata": {
    "collapsed": true
   },
   "source": [
    "Most Popular Apps by Genre on Google Play\n",
    "-------------------------------------------------------\n",
    "\n",
    "For the Google Play market, we actually have data about the number of installs, so we should be able to get a clearer picture about genre popularity. However, the install numbers don't seem precise enough — we can see that most values are open-ended (100+, 1,000+, 5,000+, etc.)\n",
    "\n",
    "To remove characters from strings, we can use str.replace(old, new) method."
   ]
  },
  {
   "cell_type": "code",
   "execution_count": 29,
   "metadata": {
    "collapsed": false
   },
   "outputs": [
    {
     "name": "stdout",
     "output_type": "stream",
     "text": [
      "COMMUNICATION : 38456119.167247385\n",
      "VIDEO_PLAYERS : 24727872.452830188\n",
      "SOCIAL : 23253652.127118643\n",
      "PHOTOGRAPHY : 17840110.40229885\n",
      "PRODUCTIVITY : 16787331.344927534\n",
      "GAME : 15588015.603248259\n",
      "TRAVEL_AND_LOCAL : 13984077.710144928\n",
      "ENTERTAINMENT : 11640705.88235294\n",
      "TOOLS : 10801391.298666667\n",
      "NEWS_AND_MAGAZINES : 9549178.467741935\n",
      "BOOKS_AND_REFERENCE : 8767811.894736841\n",
      "SHOPPING : 7036877.311557789\n",
      "PERSONALIZATION : 5201482.6122448975\n",
      "WEATHER : 5074486.197183099\n",
      "HEALTH_AND_FITNESS : 4188821.9853479853\n",
      "MAPS_AND_NAVIGATION : 4056941.7741935486\n",
      "FAMILY : 3695641.8198090694\n",
      "SPORTS : 3638640.1428571427\n",
      "ART_AND_DESIGN : 1986335.0877192982\n",
      "FOOD_AND_DRINK : 1924897.7363636363\n",
      "EDUCATION : 1833495.145631068\n",
      "BUSINESS : 1712290.1474201474\n",
      "LIFESTYLE : 1437816.2687861272\n",
      "FINANCE : 1387692.475609756\n",
      "HOUSE_AND_HOME : 1331540.5616438356\n",
      "DATING : 854028.8303030303\n",
      "COMICS : 817657.2727272727\n",
      "AUTO_AND_VEHICLES : 647317.8170731707\n",
      "LIBRARIES_AND_DEMO : 638503.734939759\n",
      "PARENTING : 542603.6206896552\n",
      "BEAUTY : 513151.88679245283\n",
      "EVENTS : 253542.22222222222\n",
      "MEDICAL : 120550.61980830671\n"
     ]
    }
   ],
   "source": [
    "def popular_apps(dataset, index_genre, index_install, google = False):\n",
    "    genre_popularity = {}\n",
    "    genre_frequency = freq_table(dataset, index_genre)\n",
    "    popularity_display = []\n",
    "    for genre in genre_frequency:\n",
    "        total = 0\n",
    "        len_genre = 0\n",
    "        for app in dataset:\n",
    "            if google:\n",
    "                installs= app[index_install]\n",
    "                installs = installs.replace(',', '')\n",
    "                installs = installs.replace('+', '')\n",
    "                \n",
    "            if app[index_genre] == genre:\n",
    "                install_count = float(installs)\n",
    "                total += install_count\n",
    "                len_genre += 1\n",
    "        avg_n_ratings = total/len_genre\n",
    "        genre_popularity[genre] = avg_n_ratings\n",
    "        #print(genre, ':', avg_n_ratings)\n",
    "        \n",
    "        key_val_as_tuple = (avg_n_ratings, genre)\n",
    "        popularity_display.append(key_val_as_tuple)\n",
    "        \n",
    "    popularity_sorted = sorted(popularity_display, reverse = True)\n",
    "    for entry in popularity_sorted:\n",
    "        print(entry[1], ':', entry[0])\n",
    "    return popularity_sorted\n",
    "    #print(genre_popularity)\n",
    "    #return genre_popularity    \n",
    "    \n",
    "android_popular = popular_apps(android_final, 1, 5, True)"
   ]
  },
  {
   "cell_type": "code",
   "execution_count": 39,
   "metadata": {
    "collapsed": false
   },
   "outputs": [
    {
     "name": "stdout",
     "output_type": "stream",
     "text": [
      "Most popular genre:  COMMUNICATION\n",
      "\n",
      "\n",
      "Most popular apps: \n",
      "COMMUNICATION : 1,000,000,000+\n",
      "COMMUNICATION : 10,000,000+\n",
      "COMMUNICATION : 5,000,000+\n",
      "COMMUNICATION : 100,000,000+\n",
      "COMMUNICATION : 50,000,000+\n",
      "COMMUNICATION : 5,000,000+\n",
      "COMMUNICATION : 5,000,000+\n",
      "COMMUNICATION : 10,000,000+\n",
      "COMMUNICATION : 10,000,000+\n",
      "COMMUNICATION : 10,000,000+\n",
      "COMMUNICATION : 10,000,000+\n",
      "COMMUNICATION : 1,000,000+\n",
      "COMMUNICATION : 10,000,000+\n",
      "COMMUNICATION : 10,000,000+\n",
      "COMMUNICATION : 5,000,000+\n",
      "COMMUNICATION : 1,000,000+\n",
      "COMMUNICATION : 100,000,000+\n",
      "COMMUNICATION : 500,000,000+\n",
      "COMMUNICATION : 1,000,000+\n",
      "COMMUNICATION : 100,000+\n",
      "COMMUNICATION : 10,000,000+\n",
      "COMMUNICATION : 10,000,000+\n",
      "COMMUNICATION : 10,000,000+\n",
      "COMMUNICATION : 5,000,000+\n",
      "COMMUNICATION : 5,000,000+\n",
      "COMMUNICATION : 1,000,000,000+\n",
      "COMMUNICATION : 500,000,000+\n",
      "COMMUNICATION : 5,000,000+\n",
      "COMMUNICATION : 50,000,000+\n",
      "COMMUNICATION : 1,000,000,000+\n",
      "COMMUNICATION : 100,000,000+\n",
      "COMMUNICATION : 100,000,000+\n",
      "COMMUNICATION : 1,000,000+\n",
      "COMMUNICATION : 10,000,000+\n",
      "COMMUNICATION : 10,000,000+\n",
      "COMMUNICATION : 10,000,000+\n",
      "COMMUNICATION : 10,000,000+\n",
      "COMMUNICATION : 500,000,000+\n",
      "COMMUNICATION : 10,000,000+\n",
      "COMMUNICATION : 1,000,000+\n",
      "COMMUNICATION : 1,000,000+\n",
      "COMMUNICATION : 1,000,000,000+\n",
      "COMMUNICATION : 100,000,000+\n",
      "COMMUNICATION : 1,000,000+\n",
      "COMMUNICATION : 50,000,000+\n",
      "COMMUNICATION : 500,000,000+\n",
      "COMMUNICATION : 1,000,000+\n",
      "COMMUNICATION : 1,000,000+\n",
      "COMMUNICATION : 500,000+\n",
      "COMMUNICATION : 500,000+\n",
      "COMMUNICATION : 10,000,000+\n",
      "COMMUNICATION : 10,000,000+\n",
      "COMMUNICATION : 1,000,000+\n",
      "COMMUNICATION : 1,000,000+\n",
      "COMMUNICATION : 5,000,000+\n",
      "COMMUNICATION : 10,000,000+\n",
      "COMMUNICATION : 10,000,000+\n",
      "COMMUNICATION : 1,000,000+\n",
      "COMMUNICATION : 1,000,000+\n",
      "COMMUNICATION : 5,000,000+\n",
      "COMMUNICATION : 10,000,000+\n",
      "COMMUNICATION : 5,000,000+\n",
      "COMMUNICATION : 1,000,000+\n",
      "COMMUNICATION : 1,000,000+\n",
      "COMMUNICATION : 5,000,000+\n",
      "COMMUNICATION : 1,000,000+\n",
      "COMMUNICATION : 1,000,000+\n",
      "COMMUNICATION : 1,000,000,000+\n",
      "COMMUNICATION : 5,000,000+\n",
      "COMMUNICATION : 10,000,000+\n",
      "COMMUNICATION : 1,000,000+\n",
      "COMMUNICATION : 1,000,000+\n",
      "COMMUNICATION : 1,000,000+\n",
      "COMMUNICATION : 10,000,000+\n",
      "COMMUNICATION : 50,000,000+\n",
      "COMMUNICATION : 10,000+\n",
      "COMMUNICATION : 5,000,000+\n",
      "COMMUNICATION : 1,000,000+\n",
      "COMMUNICATION : 500,000+\n",
      "COMMUNICATION : 1,000,000,000+\n",
      "COMMUNICATION : 1,000,000+\n",
      "COMMUNICATION : 5,000,000+\n",
      "COMMUNICATION : 50,000,000+\n",
      "COMMUNICATION : 500,000+\n",
      "COMMUNICATION : 10,000,000+\n",
      "COMMUNICATION : 100,000,000+\n",
      "COMMUNICATION : 1,000,000+\n",
      "COMMUNICATION : 10,000,000+\n",
      "COMMUNICATION : 100,000,000+\n",
      "COMMUNICATION : 100,000+\n",
      "COMMUNICATION : 100,000,000+\n",
      "COMMUNICATION : 5,000+\n",
      "COMMUNICATION : 100,000+\n",
      "COMMUNICATION : 10,000,000+\n",
      "COMMUNICATION : 10,000+\n",
      "COMMUNICATION : 50,000+\n",
      "COMMUNICATION : 100,000,000+\n",
      "COMMUNICATION : 100,000,000+\n",
      "COMMUNICATION : 10,000,000+\n",
      "COMMUNICATION : 10,000,000+\n",
      "COMMUNICATION : 10,000,000+\n",
      "COMMUNICATION : 100,000,000+\n",
      "COMMUNICATION : 1,000,000+\n",
      "COMMUNICATION : 100,000+\n",
      "COMMUNICATION : 100,000,000+\n",
      "COMMUNICATION : 10,000,000+\n",
      "COMMUNICATION : 5,000,000+\n",
      "COMMUNICATION : 500,000+\n",
      "COMMUNICATION : 100,000,000+\n",
      "COMMUNICATION : 10,000+\n",
      "COMMUNICATION : 10,000+\n",
      "COMMUNICATION : 500,000,000+\n",
      "COMMUNICATION : 100,000,000+\n",
      "COMMUNICATION : 10,000,000+\n",
      "COMMUNICATION : 10,000,000+\n",
      "COMMUNICATION : 50,000+\n",
      "COMMUNICATION : 100,000,000+\n",
      "COMMUNICATION : 10,000,000+\n",
      "COMMUNICATION : 10,000,000+\n",
      "COMMUNICATION : 50,000,000+\n",
      "COMMUNICATION : 1,000,000+\n",
      "COMMUNICATION : 10,000+\n",
      "COMMUNICATION : 5,000,000+\n",
      "COMMUNICATION : 5,000+\n",
      "COMMUNICATION : 10+\n",
      "COMMUNICATION : 100+\n",
      "COMMUNICATION : 100+\n",
      "COMMUNICATION : 100+\n",
      "COMMUNICATION : 5,000+\n",
      "COMMUNICATION : 100,000+\n",
      "COMMUNICATION : 100,000+\n",
      "COMMUNICATION : 10,000+\n",
      "COMMUNICATION : 10,000,000+\n",
      "COMMUNICATION : 10,000+\n",
      "COMMUNICATION : 5,000,000+\n",
      "COMMUNICATION : 10,000,000+\n",
      "COMMUNICATION : 10,000,000+\n",
      "COMMUNICATION : 1,000+\n",
      "COMMUNICATION : 100,000+\n",
      "COMMUNICATION : 1,000+\n",
      "COMMUNICATION : 1,000,000+\n",
      "COMMUNICATION : 100+\n",
      "COMMUNICATION : 100,000+\n",
      "COMMUNICATION : 1+\n",
      "COMMUNICATION : 500,000+\n",
      "COMMUNICATION : 50,000+\n",
      "COMMUNICATION : 10,000+\n",
      "COMMUNICATION : 5,000+\n",
      "COMMUNICATION : 10+\n",
      "COMMUNICATION : 500+\n",
      "COMMUNICATION : 10,000+\n",
      "COMMUNICATION : 50,000+\n",
      "COMMUNICATION : 1,000+\n",
      "COMMUNICATION : 50,000,000+\n",
      "COMMUNICATION : 10+\n",
      "COMMUNICATION : 1,000+\n",
      "COMMUNICATION : 5+\n",
      "COMMUNICATION : 50+\n",
      "COMMUNICATION : 100,000,000+\n",
      "COMMUNICATION : 10,000+\n",
      "COMMUNICATION : 1,000,000+\n",
      "COMMUNICATION : 1,000+\n",
      "COMMUNICATION : 1,000+\n",
      "COMMUNICATION : 50+\n",
      "COMMUNICATION : 500+\n",
      "COMMUNICATION : 5,000+\n",
      "COMMUNICATION : 50,000+\n",
      "COMMUNICATION : 10,000+\n",
      "COMMUNICATION : 1,000,000+\n",
      "COMMUNICATION : 100,000+\n",
      "COMMUNICATION : 5,000,000+\n",
      "COMMUNICATION : 50,000+\n",
      "COMMUNICATION : 100+\n",
      "COMMUNICATION : 10,000+\n",
      "COMMUNICATION : 1,000,000+\n",
      "COMMUNICATION : 1,000,000+\n",
      "COMMUNICATION : 100,000+\n",
      "COMMUNICATION : 1,000,000+\n",
      "COMMUNICATION : 100,000+\n",
      "COMMUNICATION : 50+\n",
      "COMMUNICATION : 100+\n",
      "COMMUNICATION : 5,000+\n",
      "COMMUNICATION : 5,000,000+\n",
      "COMMUNICATION : 100+\n",
      "COMMUNICATION : 100+\n",
      "COMMUNICATION : 10+\n",
      "COMMUNICATION : 5,000,000+\n",
      "COMMUNICATION : 5,000+\n",
      "COMMUNICATION : 1,000,000+\n",
      "COMMUNICATION : 1,000+\n",
      "COMMUNICATION : 500+\n",
      "COMMUNICATION : 100,000+\n",
      "COMMUNICATION : 10,000+\n",
      "COMMUNICATION : 10,000+\n",
      "COMMUNICATION : 1,000+\n",
      "COMMUNICATION : 1,000+\n",
      "COMMUNICATION : 5,000+\n",
      "COMMUNICATION : 1,000,000+\n",
      "COMMUNICATION : 50,000+\n",
      "COMMUNICATION : 100+\n",
      "COMMUNICATION : 100+\n",
      "COMMUNICATION : 500+\n",
      "COMMUNICATION : 100,000+\n",
      "COMMUNICATION : 5,000+\n",
      "COMMUNICATION : 10,000+\n",
      "COMMUNICATION : 50+\n",
      "COMMUNICATION : 100+\n",
      "COMMUNICATION : 100+\n",
      "COMMUNICATION : 10+\n",
      "COMMUNICATION : 1,000+\n",
      "COMMUNICATION : 10,000,000+\n",
      "COMMUNICATION : 5,000,000+\n",
      "COMMUNICATION : 10,000,000+\n",
      "COMMUNICATION : 500+\n",
      "COMMUNICATION : 100+\n",
      "COMMUNICATION : 10,000,000+\n",
      "COMMUNICATION : 10+\n",
      "COMMUNICATION : 1,000+\n",
      "COMMUNICATION : 50+\n",
      "COMMUNICATION : 5,000+\n",
      "COMMUNICATION : 5,000+\n",
      "COMMUNICATION : 10+\n",
      "COMMUNICATION : 1,000+\n",
      "COMMUNICATION : 1,000+\n",
      "COMMUNICATION : 1,000+\n",
      "COMMUNICATION : 10,000,000+\n",
      "COMMUNICATION : 5,000,000+\n",
      "COMMUNICATION : 1,000+\n",
      "COMMUNICATION : 1,000,000+\n",
      "COMMUNICATION : 10,000+\n",
      "COMMUNICATION : 5,000+\n",
      "COMMUNICATION : 5,000+\n",
      "COMMUNICATION : 50,000+\n",
      "COMMUNICATION : 100+\n",
      "COMMUNICATION : 5,000+\n",
      "COMMUNICATION : 100,000+\n",
      "COMMUNICATION : 1,000,000+\n",
      "COMMUNICATION : 100+\n",
      "COMMUNICATION : 10,000+\n",
      "COMMUNICATION : 10+\n",
      "COMMUNICATION : 10+\n",
      "COMMUNICATION : 10+\n",
      "COMMUNICATION : 10,000,000+\n",
      "COMMUNICATION : 10+\n",
      "COMMUNICATION : 100+\n",
      "COMMUNICATION : 10,000,000+\n",
      "COMMUNICATION : 500+\n",
      "COMMUNICATION : 10,000,000+\n",
      "COMMUNICATION : 1,000+\n",
      "COMMUNICATION : 5,000+\n",
      "COMMUNICATION : 500+\n",
      "COMMUNICATION : 100+\n",
      "COMMUNICATION : 10,000+\n",
      "COMMUNICATION : 1,000,000+\n",
      "COMMUNICATION : 100,000+\n",
      "COMMUNICATION : 500+\n",
      "COMMUNICATION : 10,000+\n",
      "COMMUNICATION : 5+\n",
      "COMMUNICATION : 1,000,000+\n",
      "COMMUNICATION : 1,000+\n",
      "COMMUNICATION : 100+\n",
      "COMMUNICATION : 100+\n",
      "COMMUNICATION : 1,000,000+\n",
      "COMMUNICATION : 500,000+\n",
      "COMMUNICATION : 1,000,000+\n",
      "COMMUNICATION : 5,000+\n",
      "COMMUNICATION : 100,000+\n",
      "COMMUNICATION : 500,000+\n",
      "COMMUNICATION : 10,000+\n",
      "COMMUNICATION : 1,000+\n",
      "COMMUNICATION : 50,000+\n",
      "COMMUNICATION : 10+\n",
      "COMMUNICATION : 10+\n",
      "COMMUNICATION : 100+\n",
      "COMMUNICATION : 100+\n",
      "COMMUNICATION : 100+\n",
      "COMMUNICATION : 100+\n",
      "COMMUNICATION : 100+\n",
      "COMMUNICATION : 100+\n",
      "COMMUNICATION : 1,000+\n",
      "COMMUNICATION : 100+\n",
      "COMMUNICATION : 100+\n",
      "COMMUNICATION : 1,000,000+\n",
      "COMMUNICATION : 100+\n",
      "COMMUNICATION : 500,000+\n",
      "COMMUNICATION : 10+\n",
      "COMMUNICATION : 50,000+\n"
     ]
    }
   ],
   "source": [
    "print('Most popular genre: ',android_popular[0][1])\n",
    "print('\\n')\n",
    "print('Most popular apps: ')\n",
    "for app in android_final:\n",
    "    if app[1] == android_popular[0][1]:\n",
    "        print(app[1], ':', app[5])"
   ]
  },
  {
   "cell_type": "markdown",
   "metadata": {},
   "source": [
    "Conclusion\n",
    "-------------------------------------------------\n",
    "\n",
    "I have tried to define functions so that they could be used in future."
   ]
  }
 ],
 "metadata": {
  "kernelspec": {
   "display_name": "Python 3",
   "language": "python",
   "name": "python3"
  },
  "language_info": {
   "codemirror_mode": {
    "name": "ipython",
    "version": 3
   },
   "file_extension": ".py",
   "mimetype": "text/x-python",
   "name": "python",
   "nbconvert_exporter": "python",
   "pygments_lexer": "ipython3",
   "version": "3.4.3"
  }
 },
 "nbformat": 4,
 "nbformat_minor": 2
}
